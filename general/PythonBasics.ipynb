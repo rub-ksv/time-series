{
  "nbformat": 4,
  "nbformat_minor": 0,
  "metadata": {
    "colab": {
      "name": "PythonBasics.ipynb",
      "provenance": [],
      "collapsed_sections": [],
      "toc_visible": true,
      "include_colab_link": true
    },
    "kernelspec": {
      "name": "python3",
      "display_name": "Python 3"
    }
  },
  "cells": [
    {
      "cell_type": "markdown",
      "metadata": {
        "id": "view-in-github",
        "colab_type": "text"
      },
      "source": [
        "<a href=\"https://colab.research.google.com/github/rub-ksv/time-series/blob/main/general/PythonBasics.ipynb\" target=\"_parent\"><img src=\"https://colab.research.google.com/assets/colab-badge.svg\" alt=\"Open In Colab\"/></a>"
      ]
    },
    {
      "cell_type": "markdown",
      "metadata": {
        "id": "GFuznUvHoJm0"
      },
      "source": [
        "Strings"
      ]
    },
    {
      "cell_type": "code",
      "metadata": {
        "id": "yRdbCNvvuhyF",
        "colab": {
          "base_uri": "https://localhost:8080/"
        },
        "outputId": "5ac4af24-5920-41e1-b7be-9a6984021f6c"
      },
      "source": [
        "hello = 'hello'\n",
        "world = \"world\"\n",
        "print(hello)\n",
        "print(len(hello))\n",
        "hw = hello + ' ' + world\n",
        "print(hw)\n",
        "print(hw[:6])\n",
        "#num2str -> str\n",
        "age = 6\n",
        "print('My cat was '+str(age)+' weeks old when I got it.')"
      ],
      "execution_count": null,
      "outputs": [
        {
          "output_type": "stream",
          "name": "stdout",
          "text": [
            "hello\n",
            "5\n",
            "hello world\n",
            "hello \n",
            "My cat was 6 weeks old when I got it.\n"
          ]
        }
      ]
    },
    {
      "cell_type": "code",
      "metadata": {
        "id": "QvMhWaUyvRG9",
        "colab": {
          "base_uri": "https://localhost:8080/"
        },
        "outputId": "1c89c763-7f93-4dd1-95a0-864172719c42"
      },
      "source": [
        "print(world.capitalize())\n",
        "print(world.upper())\n",
        "print(hello.replace('l','(ell)'))\n",
        "print(' wwww '.strip())"
      ],
      "execution_count": null,
      "outputs": [
        {
          "output_type": "stream",
          "name": "stdout",
          "text": [
            "World\n",
            "WORLD\n",
            "he(ell)(ell)o\n",
            "wwww\n"
          ]
        }
      ]
    },
    {
      "cell_type": "markdown",
      "metadata": {
        "id": "Ir5CukTFgZWp"
      },
      "source": [
        "# Most basic of basics\n"
      ]
    },
    {
      "cell_type": "code",
      "metadata": {
        "id": "dLBQszs19-6N",
        "colab": {
          "base_uri": "https://localhost:8080/"
        },
        "outputId": "dbc7c069-a5e2-47fe-e5eb-066e9c03dba5"
      },
      "source": [
        "x = 42\n",
        "print(x)\n",
        "print(x+1)\n",
        "print(x-1)\n",
        "print(x*2)\n",
        "print(x**2)"
      ],
      "execution_count": null,
      "outputs": [
        {
          "output_type": "stream",
          "name": "stdout",
          "text": [
            "42\n",
            "43\n",
            "41\n",
            "84\n",
            "1764\n"
          ]
        }
      ]
    },
    {
      "cell_type": "markdown",
      "source": [
        "## Elementary operations, Formatted printing"
      ],
      "metadata": {
        "id": "diHVDnD0sftm"
      }
    },
    {
      "cell_type": "code",
      "metadata": {
        "colab": {
          "base_uri": "https://localhost:8080/"
        },
        "id": "8_aupJcm8aA9",
        "outputId": "9e34577a-44a8-404c-c945-690971c98438"
      },
      "source": [
        "a = 17*66\n",
        "b = 2**3\n",
        "print('das ist jetzt b:',b)\n",
        "print('und das sind A: {A} und B: {B}.'.format(A=1,B= 'ein String'))\n",
        "print('aber es geht auch so: a: {}, und b: {}.'.format(a,b))\n"
      ],
      "execution_count": null,
      "outputs": [
        {
          "output_type": "stream",
          "name": "stdout",
          "text": [
            "das ist jetzt b: 8\n",
            "und das sind A: 1 und B: ein String.\n",
            "aber es geht auch so: a: 1122, und b: 8.\n"
          ]
        }
      ]
    },
    {
      "cell_type": "markdown",
      "metadata": {
        "id": "nSCBbwF6GKaa"
      },
      "source": [
        "##*Automatic types*\n"
      ]
    },
    {
      "cell_type": "code",
      "metadata": {
        "id": "w5lmuL2ittaF",
        "colab": {
          "base_uri": "https://localhost:8080/"
        },
        "outputId": "61c79d4d-331e-4f1f-a54c-8315d6761293"
      },
      "source": [
        "x = 4.\n",
        "print(type(x))\n",
        "x = 4\n",
        "print(type(x))\n",
        "print(type(x/3))\n",
        "print(x//3)\n",
        "print(type(x//3))\n",
        "x+=1\n",
        "print(x)"
      ],
      "execution_count": null,
      "outputs": [
        {
          "output_type": "stream",
          "name": "stdout",
          "text": [
            "<class 'float'>\n",
            "<class 'int'>\n",
            "<class 'float'>\n",
            "1\n",
            "<class 'int'>\n",
            "5\n"
          ]
        }
      ]
    },
    {
      "cell_type": "code",
      "metadata": {
        "id": "AsgjInEAt7Ow",
        "colab": {
          "base_uri": "https://localhost:8080/"
        },
        "outputId": "9ee01ef5-e5ba-42ba-e903-515a0bc33ab1"
      },
      "source": [
        "x*=2\n",
        "print(x)\n",
        "y = 2.5\n",
        "print(type(y))\n",
        "print(y,y+1,y*2,y**2,'text')"
      ],
      "execution_count": null,
      "outputs": [
        {
          "output_type": "stream",
          "name": "stdout",
          "text": [
            "10\n",
            "<class 'float'>\n",
            "2.5 3.5 5.0 6.25 text\n"
          ]
        }
      ]
    },
    {
      "cell_type": "code",
      "metadata": {
        "colab": {
          "base_uri": "https://localhost:8080/"
        },
        "id": "Z901CgPGNJkL",
        "outputId": "47690796-d733-446a-9d28-542efd149f2d"
      },
      "source": [
        "#automatic typing in initialized arrays reverses typecasts!!\n",
        "import numpy as np\n",
        "a = np.ones((1,3))\n",
        "a[0,0] = int(6.0)\n",
        "print(a)\n",
        "print(type(a[0,0]))\n",
        "print(a.size)\n"
      ],
      "execution_count": null,
      "outputs": [
        {
          "output_type": "stream",
          "name": "stdout",
          "text": [
            "[[6. 1. 1.]]\n",
            "<class 'numpy.float64'>\n",
            "3\n"
          ]
        }
      ]
    },
    {
      "cell_type": "markdown",
      "metadata": {
        "id": "rrGGT0ofoHNl"
      },
      "source": [
        "*Booleans*"
      ]
    },
    {
      "cell_type": "code",
      "metadata": {
        "id": "MibgCctkuJYX",
        "colab": {
          "base_uri": "https://localhost:8080/"
        },
        "outputId": "1d33df15-5c0e-4b4a-d676-7cfceaed0b10"
      },
      "source": [
        "t = True\n",
        "f = False\n",
        "print(type(t))\n",
        "print(t and f)\n",
        "print(t or f)\n",
        "print(not t)\n",
        "print(t!=f)\n",
        "print(int(t))\n",
        "print(int(f))"
      ],
      "execution_count": null,
      "outputs": [
        {
          "output_type": "stream",
          "name": "stdout",
          "text": [
            "<class 'bool'>\n",
            "False\n",
            "True\n",
            "False\n",
            "True\n",
            "1\n",
            "0\n"
          ]
        }
      ]
    },
    {
      "cell_type": "markdown",
      "metadata": {
        "id": "9F5PWSogNxFQ"
      },
      "source": [
        "Control structures:"
      ]
    },
    {
      "cell_type": "code",
      "metadata": {
        "colab": {
          "base_uri": "https://localhost:8080/"
        },
        "id": "mYn0_PfHGTcZ",
        "outputId": "b261d689-f999-4a06-a4f1-563a8d019a07"
      },
      "source": [
        "for idx in range(3):\n",
        "  print(idx)\n",
        "\n",
        "for idx in range(7,14):\n",
        "  print(idx)\n"
      ],
      "execution_count": null,
      "outputs": [
        {
          "output_type": "stream",
          "name": "stdout",
          "text": [
            "0\n",
            "1\n",
            "2\n",
            "7\n",
            "8\n",
            "9\n",
            "10\n",
            "11\n",
            "12\n",
            "13\n"
          ]
        }
      ]
    },
    {
      "cell_type": "code",
      "metadata": {
        "colab": {
          "base_uri": "https://localhost:8080/"
        },
        "id": "8KzdUd-jTWqa",
        "outputId": "86a21bee-5e7f-4b4f-96cf-4b43057a9928"
      },
      "source": [
        "teststring = 'c'\n",
        "if teststring == 'a':\n",
        "  print('yo')\n",
        "elif teststring == 'b':\n",
        "  print('yippie')\n",
        "else:\n",
        "  print('määp')"
      ],
      "execution_count": null,
      "outputs": [
        {
          "output_type": "stream",
          "name": "stdout",
          "text": [
            "määp\n"
          ]
        }
      ]
    },
    {
      "cell_type": "markdown",
      "metadata": {
        "id": "0z0d6njNqEty"
      },
      "source": [
        "Conditions and statements"
      ]
    },
    {
      "cell_type": "code",
      "metadata": {
        "id": "ZnT0-M5OqGvj",
        "colab": {
          "base_uri": "https://localhost:8080/"
        },
        "outputId": "7a1caace-845b-4138-976f-e15984a29fff"
      },
      "source": [
        "a = 363\n",
        "b = 9.2\n",
        "print (a==b)\n",
        "print (a <=b)\n",
        "print (a!=b)\n",
        "print (a > b)\n",
        "if a>b and a != b:\n",
        "  print('both are true')\n",
        "else:\n",
        "  pass                    #just does nothing to avoid an error in a condition where nothing needs to happen\n"
      ],
      "execution_count": null,
      "outputs": [
        {
          "output_type": "stream",
          "name": "stdout",
          "text": [
            "False\n",
            "False\n",
            "True\n",
            "True\n",
            "both are true\n"
          ]
        }
      ]
    },
    {
      "cell_type": "code",
      "source": [
        "import time\n",
        "print ('Times:')\n",
        "t1 = time(12, 55, 0)\n",
        "print ('\\tt1:', t1)\n",
        "t2 = time(13, 5, 0)\n",
        "delta = time.   .subtract(t2,t1)\n",
        "print ('\\tt1:', delta)"
      ],
      "metadata": {
        "colab": {
          "base_uri": "https://localhost:8080/",
          "height": 267
        },
        "id": "LPYhlQeIAWWk",
        "outputId": "1da9f0dd-8c10-42fe-d99b-36b6f62e8359"
      },
      "execution_count": null,
      "outputs": [
        {
          "output_type": "stream",
          "name": "stdout",
          "text": [
            "Times:\n",
            "\tt1: 12:55:00\n"
          ]
        },
        {
          "output_type": "error",
          "ename": "AttributeError",
          "evalue": "ignored",
          "traceback": [
            "\u001b[0;31m---------------------------------------------------------------------------\u001b[0m",
            "\u001b[0;31mAttributeError\u001b[0m                            Traceback (most recent call last)",
            "\u001b[0;32m<ipython-input-6-2f9464f2d407>\u001b[0m in \u001b[0;36m<module>\u001b[0;34m()\u001b[0m\n\u001b[1;32m      4\u001b[0m \u001b[0mprint\u001b[0m \u001b[0;34m(\u001b[0m\u001b[0;34m'\\tt1:'\u001b[0m\u001b[0;34m,\u001b[0m \u001b[0mt1\u001b[0m\u001b[0;34m)\u001b[0m\u001b[0;34m\u001b[0m\u001b[0;34m\u001b[0m\u001b[0m\n\u001b[1;32m      5\u001b[0m \u001b[0mt2\u001b[0m \u001b[0;34m=\u001b[0m \u001b[0mdatetime\u001b[0m\u001b[0;34m.\u001b[0m\u001b[0mtime\u001b[0m\u001b[0;34m(\u001b[0m\u001b[0;36m13\u001b[0m\u001b[0;34m,\u001b[0m \u001b[0;36m5\u001b[0m\u001b[0;34m,\u001b[0m \u001b[0;36m0\u001b[0m\u001b[0;34m)\u001b[0m\u001b[0;34m\u001b[0m\u001b[0;34m\u001b[0m\u001b[0m\n\u001b[0;32m----> 6\u001b[0;31m \u001b[0mdelta\u001b[0m \u001b[0;34m=\u001b[0m \u001b[0mdatetime\u001b[0m\u001b[0;34m.\u001b[0m\u001b[0msubtract\u001b[0m\u001b[0;34m(\u001b[0m\u001b[0mt2\u001b[0m\u001b[0;34m,\u001b[0m\u001b[0mt1\u001b[0m\u001b[0;34m)\u001b[0m\u001b[0;34m\u001b[0m\u001b[0;34m\u001b[0m\u001b[0m\n\u001b[0m\u001b[1;32m      7\u001b[0m \u001b[0mprint\u001b[0m \u001b[0;34m(\u001b[0m\u001b[0;34m'\\tt1:'\u001b[0m\u001b[0;34m,\u001b[0m \u001b[0mdelta\u001b[0m\u001b[0;34m)\u001b[0m\u001b[0;34m\u001b[0m\u001b[0;34m\u001b[0m\u001b[0m\n",
            "\u001b[0;31mAttributeError\u001b[0m: module 'datetime' has no attribute 'subtract'"
          ]
        }
      ]
    },
    {
      "cell_type": "markdown",
      "metadata": {
        "id": "r3Kxv5Zp49aN"
      },
      "source": [
        "# Arrays"
      ]
    },
    {
      "cell_type": "code",
      "metadata": {
        "id": "_oTT38nPpILK",
        "colab": {
          "base_uri": "https://localhost:8080/"
        },
        "outputId": "a063f1b0-6d67-40ae-8221-d8f1d3e2238e"
      },
      "source": [
        "nums = [0,1,2,3,4]\n",
        "squares = []\n",
        "for x in nums:\n",
        "  squares.append(x**2)\n",
        "print(squares)\n",
        "print(nums[1])"
      ],
      "execution_count": null,
      "outputs": [
        {
          "output_type": "stream",
          "name": "stdout",
          "text": [
            "[0, 1, 4, 9, 16]\n",
            "1\n"
          ]
        }
      ]
    },
    {
      "cell_type": "code",
      "metadata": {
        "id": "QNnKffZTpfa4",
        "colab": {
          "base_uri": "https://localhost:8080/"
        },
        "outputId": "20b75cd2-ea8c-4bf4-b754-683137330fca"
      },
      "source": [
        "squares2 = [x**2 for x in nums]\n",
        "print(squares2)\n",
        "evensq = [x**2 for x in nums if x % 2 == 0]\n",
        "print(evensq)"
      ],
      "execution_count": null,
      "outputs": [
        {
          "output_type": "stream",
          "name": "stdout",
          "text": [
            "[0, 1, 4, 9, 16]\n",
            "[0, 4, 16]\n"
          ]
        }
      ]
    },
    {
      "cell_type": "markdown",
      "metadata": {
        "id": "vd_HmJncvvqJ"
      },
      "source": [
        "# Lists"
      ]
    },
    {
      "cell_type": "code",
      "metadata": {
        "id": "gd6sWh9dv1lH",
        "colab": {
          "base_uri": "https://localhost:8080/"
        },
        "outputId": "fedc7507-f66f-42c1-e5cc-1dba0fa5abd0"
      },
      "source": [
        "xs = [3,1,2] #create a list\n",
        "print(xs,xs[2])"
      ],
      "execution_count": null,
      "outputs": [
        {
          "output_type": "stream",
          "name": "stdout",
          "text": [
            "[3, 1, 2] 2\n"
          ]
        }
      ]
    },
    {
      "cell_type": "code",
      "metadata": {
        "id": "x1PpasYHwCe3",
        "colab": {
          "base_uri": "https://localhost:8080/"
        },
        "outputId": "6cde28df-83b2-4fc6-c5b0-51bbfcb0e7ef"
      },
      "source": [
        "print(xs[-1]) #negative indices count from the end of the list\n",
        "xs[2] = 'foo' #lists can contain different types\n",
        "print(xs)\n",
        "xs.append('jo')\n",
        "print(xs)\n",
        "x = xs.pop()\n",
        "print(x,xs)"
      ],
      "execution_count": null,
      "outputs": [
        {
          "output_type": "stream",
          "name": "stdout",
          "text": [
            "2\n",
            "[3, 1, 'foo']\n",
            "[3, 1, 'foo', 'jo']\n",
            "jo [3, 1, 'foo']\n"
          ]
        }
      ]
    },
    {
      "cell_type": "code",
      "metadata": {
        "id": "xeTs3Ms_whQW",
        "colab": {
          "base_uri": "https://localhost:8080/"
        },
        "outputId": "fb05bc4e-afba-41f2-fc22-669c315022b4"
      },
      "source": [
        "nums = list(range(5))\n",
        "print(nums)\n",
        "print(nums[2:4])\n",
        "print(nums[2:])\n",
        "print(nums[:2])\n",
        "print(nums[:])\n",
        "print(nums[:-1]) #slice indices can be negative, which counts from end\n",
        "nums[2:4] = [8,9]\n",
        "print(nums)\n",
        "print(len(nums))\n"
      ],
      "execution_count": null,
      "outputs": [
        {
          "output_type": "stream",
          "name": "stdout",
          "text": [
            "[0, 1, 2, 3, 4]\n",
            "[2, 3]\n",
            "[2, 3, 4]\n",
            "[0, 1]\n",
            "[0, 1, 2, 3, 4]\n",
            "[0, 1, 2, 3]\n",
            "[0, 1, 8, 9, 4]\n",
            "5\n",
            "[0 1 2 0 0]\n"
          ]
        }
      ]
    },
    {
      "cell_type": "code",
      "metadata": {
        "id": "wAiN7WzB1j4s",
        "colab": {
          "base_uri": "https://localhost:8080/"
        },
        "outputId": "5ba8f413-ce1b-433b-adc2-04aa3f30ce67"
      },
      "source": [
        "animals = ['cats', 'dog', 'monkey']\n",
        "for animal in animals:\n",
        "  print(animal)\n",
        "for idx, animal in enumerate(animals):\n",
        "  print('#%d: %s' % (idx+1, animal))\n",
        "print(', '.join(animals))\n",
        "print('\\n'.join(animals))"
      ],
      "execution_count": null,
      "outputs": [
        {
          "output_type": "stream",
          "name": "stdout",
          "text": [
            "cats\n",
            "dog\n",
            "monkey\n",
            "#1: cats\n",
            "#2: dog\n",
            "#3: monkey\n",
            "cats, dog, monkey\n",
            "cats\n",
            "dog\n",
            "monkey\n"
          ]
        }
      ]
    },
    {
      "cell_type": "markdown",
      "metadata": {
        "id": "fsi4Fn3n44Sw"
      },
      "source": [
        "# Dictionaries"
      ]
    },
    {
      "cell_type": "code",
      "metadata": {
        "id": "lA7x3D5a3yyM",
        "colab": {
          "base_uri": "https://localhost:8080/"
        },
        "outputId": "5735efbd-3367-4481-93f0-f75bfde38fd4"
      },
      "source": [
        "d = {'cat': 'cute', 'dog': 'furry'}\n",
        "print(d['cat'])\n",
        "d = {'person': 2, 'cat': 4, 'spider': 8}\n",
        "for animal in d:\n",
        "  legs = d[animal]\n",
        "  print('A %s has %d legs' % (animal, legs))\n",
        "d['whale'] = 0\n",
        "print(d)\n",
        "for animal,legs in d.items():\n",
        "  print('%s with %d' % (animal,legs)) "
      ],
      "execution_count": null,
      "outputs": [
        {
          "output_type": "stream",
          "name": "stdout",
          "text": [
            "cute\n",
            "A person has 2 legs\n",
            "A cat has 4 legs\n",
            "A spider has 8 legs\n",
            "{'person': 2, 'cat': 4, 'spider': 8, 'whale': 0}\n",
            "person with 2\n",
            "cat with 4\n",
            "spider with 8\n",
            "whale with 0\n"
          ]
        }
      ]
    },
    {
      "cell_type": "markdown",
      "metadata": {
        "id": "-mOkGR1o5Kak"
      },
      "source": [
        "# Sets"
      ]
    },
    {
      "cell_type": "code",
      "metadata": {
        "id": "NCEF8cVR5O8b",
        "colab": {
          "base_uri": "https://localhost:8080/"
        },
        "outputId": "9900a841-067a-4413-9520-91a859253587"
      },
      "source": [
        "animals = {'cat', 'dog'}\n",
        "print('cat' in animals)\n",
        "print('fish' in animals)\n",
        "animals.add('fish')\n",
        "print(len(animals))\n",
        "animals.add('cat')\n",
        "print(len(animals))\n",
        "animals.remove('cat')\n",
        "print(animals)\n",
        "for idx, animal in enumerate(animals):\n",
        "  print('#%d: %s' % (idx+1,animal))"
      ],
      "execution_count": null,
      "outputs": [
        {
          "output_type": "stream",
          "name": "stdout",
          "text": [
            "True\n",
            "False\n",
            "3\n",
            "3\n",
            "{'dog', 'fish'}\n",
            "#1: dog\n",
            "#2: fish\n"
          ]
        }
      ]
    },
    {
      "cell_type": "code",
      "source": [
        "for ii in range(1,21-5+1,5):\n",
        "  print(ii+5)"
      ],
      "metadata": {
        "colab": {
          "base_uri": "https://localhost:8080/"
        },
        "id": "pqY77oNCrnuU",
        "outputId": "ba1871ad-c18e-4462-d07f-cf8c14fdede1"
      },
      "execution_count": null,
      "outputs": [
        {
          "output_type": "stream",
          "name": "stdout",
          "text": [
            "6\n",
            "11\n",
            "16\n",
            "21\n"
          ]
        }
      ]
    },
    {
      "cell_type": "markdown",
      "metadata": {
        "id": "OY0_slBf7ZP4"
      },
      "source": [
        "# Tuples \n",
        "A *tuple* is an immutable ordered \n",
        "list of values. In contrast to *lists*, tuples **can** be used as keys in dictionaries and as elements of sets."
      ]
    },
    {
      "cell_type": "code",
      "metadata": {
        "id": "Wc6Mr44X7jyG",
        "colab": {
          "base_uri": "https://localhost:8080/"
        },
        "outputId": "fc87b653-af99-440e-c3e1-eecf522ecfff"
      },
      "source": [
        "d = {(x,x+1): x for x in range(10)} #create dictionary, which contains tuples as keys\n",
        "t = (5,6)\n",
        "print(type(t))\n",
        "print(d)\n",
        "print(d[t])\n",
        "print(d[(1,2)]) #and index by these tuples, just because you can."
      ],
      "execution_count": null,
      "outputs": [
        {
          "output_type": "stream",
          "name": "stdout",
          "text": [
            "<class 'tuple'>\n",
            "{(0, 1): 0, (1, 2): 1, (2, 3): 2, (3, 4): 3, (4, 5): 4, (5, 6): 5, (6, 7): 6, (7, 8): 7, (8, 9): 8, (9, 10): 9}\n",
            "5\n",
            "1\n"
          ]
        }
      ]
    },
    {
      "cell_type": "markdown",
      "metadata": {
        "id": "kGyjTK1yry2O"
      },
      "source": [
        "# Numpy\n",
        "\n",
        "1. Array initialization, shapes, concat, dstack"
      ]
    },
    {
      "cell_type": "code",
      "metadata": {
        "id": "cuNwo-Wrrz7R",
        "colab": {
          "base_uri": "https://localhost:8080/"
        },
        "outputId": "f7b00148-081e-438a-db9c-74fce13d854e"
      },
      "source": [
        "import numpy as np\n",
        "a = np.array([1,2,3])\n",
        "print(type(a))\n",
        "print(a.shape)\n",
        "print(a[0],a[2])\n",
        "b = np.array([[1,2,3],[4,5,6]])\n",
        "#concatenate arrays\n",
        "bb = np.concatenate((b,b),axis = 0)\n",
        "print('concatenating along axis 0 \\n',bb)\n",
        "bb = np.concatenate((b,b),axis = 1)\n",
        "print('concatenating along axis 1 \\n',bb)\n",
        "(x,y) = b.shape\n",
        "print(y)\n",
        "print(b)\n",
        "print(b[1,2])   #2te Zeile, 3te Spalte\n",
        "# Stack arrays in sequence depth wise (along third axis).\n",
        "                  # numpy.dstack(tup)[source]\n"
      ],
      "execution_count": null,
      "outputs": [
        {
          "output_type": "stream",
          "name": "stdout",
          "text": [
            "<class 'numpy.ndarray'>\n",
            "(3,)\n",
            "1 3\n",
            "concatenating along axis 0 \n",
            " [[1 2 3]\n",
            " [4 5 6]\n",
            " [1 2 3]\n",
            " [4 5 6]]\n",
            "concatenating along axis 1 \n",
            " [[1 2 3 1 2 3]\n",
            " [4 5 6 4 5 6]]\n",
            "3\n",
            "[[1 2 3]\n",
            " [4 5 6]]\n",
            "6\n"
          ]
        }
      ]
    },
    {
      "cell_type": "markdown",
      "source": [
        "### DKF scratch space\n"
      ],
      "metadata": {
        "id": "Q9QcRZl9qLT-"
      }
    },
    {
      "cell_type": "code",
      "source": [
        "# scratch space, tmp, for DKF\n",
        "import numpy as np\n",
        "z0 = np.array([[1,2,3,4],[4,5,6,7],[7,8,9,10],[10,11,12,13]])\n",
        "D,T = z0.shape\n",
        "print('T: {}, D: {}'.format(T,D))\n",
        "z01 = z0[:,1:T] #  z01 = z0(:,2:end);\n",
        "z00 = z0[:,0:T-1]#    z00 = z0(:,1:end-1);\n",
        "print('z01: {}'.format(z01))\n",
        "print('z00: {}'.format(z00))\n",
        "# Learn A\n",
        "\n",
        "A0 = np.matmul(z01,np.linalg.pinv(z00))\n",
        "print(\"A0 = {}\".format(A0))\n",
        "# Learn Q (Burkhart: Gamma), cf. Kevin Murphy p.8\n",
        "# G = (z01-A0*z00)*(z01-A0*z00)'/T;\n",
        "Res = (z01-np.matmul(A0,z00))\n",
        "print(\"Res = {}\".format(Res))\n",
        "G0 = np.matmul(Res,np.transpose(Res))/T\n",
        "print(\"G0 = {}\".format(G0))\n",
        "\n",
        "S = np.cov(z0) # VZ in Burkhart's code\n",
        "print(\"S = {}\".format(S))\n",
        "\n",
        "\n",
        "f = np.random.rand(D,T)\n",
        "Q = np.random.rand(D,T)\n",
        "\n",
        "means_filtered = DKF_filtering(f, Q, A0, G0, S)  #f,Q: DNN outputs, A: transition, G: transition noise, S: state noise"
      ],
      "metadata": {
        "colab": {
          "base_uri": "https://localhost:8080/"
        },
        "id": "YU1LrgEtaDcH",
        "outputId": "bad56ae0-8856-47ea-e80c-2c13cebb6819"
      },
      "execution_count": null,
      "outputs": [
        {
          "output_type": "stream",
          "name": "stdout",
          "text": [
            "T: 4, D: 4\n",
            "z01: [[ 2  3  4]\n",
            " [ 5  6  7]\n",
            " [ 8  9 10]\n",
            " [11 12 13]]\n",
            "z00: [[ 1  2  3]\n",
            " [ 4  5  6]\n",
            " [ 7  8  9]\n",
            " [10 11 12]]\n",
            "A0 = [[ 6.00000000e-01  3.66666667e-01  1.33333333e-01 -1.00000000e-01]\n",
            " [ 3.00000000e-01  2.66666667e-01  2.33333333e-01  2.00000000e-01]\n",
            " [ 2.22044605e-16  1.66666667e-01  3.33333333e-01  5.00000000e-01]\n",
            " [-3.00000000e-01  6.66666667e-02  4.33333333e-01  8.00000000e-01]]\n",
            "Res = [[-2.22044605e-15 -1.33226763e-15 -8.88178420e-16]\n",
            " [-1.77635684e-15 -8.88178420e-16 -1.77635684e-15]\n",
            " [ 8.88178420e-16  1.77635684e-15  1.77635684e-15]\n",
            " [ 0.00000000e+00  0.00000000e+00  0.00000000e+00]]\n",
            "G0 = [[ 1.87354465e-30  1.67632942e-30 -1.47911420e-30  0.00000000e+00]\n",
            " [ 1.67632942e-30  1.77493704e-30 -1.57772181e-30  0.00000000e+00]\n",
            " [-1.47911420e-30 -1.57772181e-30  1.77493704e-30  0.00000000e+00]\n",
            " [ 0.00000000e+00  0.00000000e+00  0.00000000e+00  0.00000000e+00]]\n",
            "S = [[1.66666667 1.66666667 1.66666667 1.66666667]\n",
            " [1.66666667 1.66666667 1.66666667 1.66666667]\n",
            " [1.66666667 1.66666667 1.66666667 1.66666667]\n",
            " [1.66666667 1.66666667 1.66666667 1.66666667]]\n"
          ]
        }
      ]
    },
    {
      "cell_type": "code",
      "source": [
        "def DKF_filtering(f, Q, A, G, S):  #f,Q: DNN outputs, A: transition, G: transition noise, S: state noise\n",
        "  D,T = f.shape\n",
        "  mu = np.zeros_like(f)\n",
        "  mu[:0] = 0\n",
        "  sigma = S\n",
        "\n",
        "  return 0\n",
        "\n"
      ],
      "metadata": {
        "id": "aayBU0Rsis6D"
      },
      "execution_count": null,
      "outputs": []
    },
    {
      "cell_type": "markdown",
      "metadata": {
        "id": "tij8xP6pan4F"
      },
      "source": [
        "Dstack\n"
      ]
    },
    {
      "cell_type": "code",
      "metadata": {
        "colab": {
          "base_uri": "https://localhost:8080/"
        },
        "id": "qnJ3kP98app5",
        "outputId": "9c832e50-3e25-40c7-df7f-7c4d3da452a3"
      },
      "source": [
        "c = np.array([1,2,3])\n",
        "print(c)\n",
        "d = np.array([4,6,8])\n",
        "print(d.shape)\n",
        "e = np.dstack((c,d))\n",
        "print(e)\n",
        "print(e.shape)"
      ],
      "execution_count": null,
      "outputs": [
        {
          "output_type": "stream",
          "name": "stdout",
          "text": [
            "[1 2 3]\n",
            "(3,)\n",
            "[[[1 4]\n",
            "  [2 6]\n",
            "  [3 8]]]\n",
            "(1, 3, 2)\n"
          ]
        }
      ]
    },
    {
      "cell_type": "markdown",
      "metadata": {
        "id": "ovyN5GO5s3Hb"
      },
      "source": [
        "2. Creating arrays with given content in Numpy"
      ]
    },
    {
      "cell_type": "code",
      "metadata": {
        "id": "DBNldC2vs5lO",
        "colab": {
          "base_uri": "https://localhost:8080/"
        },
        "outputId": "70e64b07-33fb-48f3-8ce4-e139a2be9cd6"
      },
      "source": [
        "a = np.zeros((2,3))\n",
        "print(a)\n",
        "a = np.ones((2,2))\n",
        "print(a)\n",
        "a = np.full((2,2),44)\n",
        "print(a)\n",
        "d = np.eye(2)\n",
        "print(d)\n",
        "print(type(d[0,0]))\n",
        "print(type(a[0,1]))\n",
        "x = np.array([1,2], dtype=np.int64)\n",
        "print(d.dtype)\n",
        "print(x.dtype)"
      ],
      "execution_count": null,
      "outputs": [
        {
          "output_type": "stream",
          "name": "stdout",
          "text": [
            "[[0. 0. 0.]\n",
            " [0. 0. 0.]]\n",
            "[[1. 1.]\n",
            " [1. 1.]]\n",
            "[[44 44]\n",
            " [44 44]]\n",
            "[[1. 0.]\n",
            " [0. 1.]]\n",
            "<class 'numpy.float64'>\n",
            "<class 'numpy.int64'>\n",
            "float64\n",
            "int64\n"
          ]
        }
      ]
    },
    {
      "cell_type": "code",
      "metadata": {
        "id": "oBlVj9HetzLF",
        "colab": {
          "base_uri": "https://localhost:8080/"
        },
        "outputId": "21edf46f-c3b1-4d7b-f48b-9aa641c13801"
      },
      "source": [
        "a = np.array([[1,2,3,4],[5,6,7,8],[9,10,11,12]])\n",
        "print(a)\n",
        "print(a[:1,2:3]) #1te zeile, 3tes element\n",
        "row_r1 = a[1,:]   #rank 1 view of second row\n",
        "row_r2 = a[1:2,:] #rank 2 view of second row\n",
        "print(row_r1, row_r1.shape)\n",
        "print(row_r2, row_r2.shape)"
      ],
      "execution_count": null,
      "outputs": [
        {
          "output_type": "stream",
          "name": "stdout",
          "text": [
            "[[ 1  2  3  4]\n",
            " [ 5  6  7  8]\n",
            " [ 9 10 11 12]]\n",
            "[[3]]\n",
            "[5 6 7 8] (4,)\n",
            "[[5 6 7 8]] (1, 4)\n"
          ]
        }
      ]
    },
    {
      "cell_type": "code",
      "metadata": {
        "id": "NM7qsvJivCbC",
        "colab": {
          "base_uri": "https://localhost:8080/"
        },
        "outputId": "afae6012-2ee2-4efc-e454-3f1768799577"
      },
      "source": [
        "col_r1 = a[:,1]\n",
        "col_r2 = a[:,1:2]\n",
        "print(col_r1, col_r1.shape) #rank1 view of second column\n",
        "print(col_r2,col_r2.shape)  #rank2 view of second column"
      ],
      "execution_count": null,
      "outputs": [
        {
          "output_type": "stream",
          "name": "stdout",
          "text": [
            "[ 2  6 10] (3,)\n",
            "[[ 2]\n",
            " [ 6]\n",
            " [10]] (3, 1)\n"
          ]
        }
      ]
    },
    {
      "cell_type": "markdown",
      "metadata": {
        "id": "rJrimp8ixjt2"
      },
      "source": [
        "Integer indexing: pass x-vector and y-vector of indices"
      ]
    },
    {
      "cell_type": "code",
      "metadata": {
        "id": "cBpE9c27x1Zj",
        "colab": {
          "base_uri": "https://localhost:8080/"
        },
        "outputId": "ef02a2f6-43d0-4faa-910a-d0dd1f2f76de"
      },
      "source": [
        "print(a[[0,1,2],[0,1,0]])               #first index values, second index values\n",
        "print(np.array([a[0,0],a[1,1],a[2,0]]))"
      ],
      "execution_count": null,
      "outputs": [
        {
          "output_type": "stream",
          "name": "stdout",
          "text": [
            "[1 6 9]\n",
            "[1 6 9]\n"
          ]
        }
      ]
    },
    {
      "cell_type": "markdown",
      "metadata": {
        "id": "D8RJchllymed"
      },
      "source": [
        "Boolean Indexing"
      ]
    },
    {
      "cell_type": "code",
      "metadata": {
        "id": "1507pqPjyn9O",
        "colab": {
          "base_uri": "https://localhost:8080/"
        },
        "outputId": "d5396556-f457-49e4-9e56-31bea52066a1"
      },
      "source": [
        "a = np.array([[1,2,3],[4,4,5]])\n",
        "bool_idx = a >=3\n",
        "print(bool_idx)\n",
        "print(a[bool_idx]) #returns rank-1 array"
      ],
      "execution_count": null,
      "outputs": [
        {
          "output_type": "stream",
          "name": "stdout",
          "text": [
            "[[False False  True]\n",
            " [ True  True  True]]\n",
            "[3 4 4 5]\n"
          ]
        }
      ]
    },
    {
      "cell_type": "markdown",
      "metadata": {
        "id": "TMceSAja90CE"
      },
      "source": [
        "# Functions"
      ]
    },
    {
      "cell_type": "code",
      "metadata": {
        "id": "99KLmVrS91lF",
        "colab": {
          "base_uri": "https://localhost:8080/"
        },
        "outputId": "51724edb-a5d3-4596-ab33-b25da9bee72e"
      },
      "source": [
        "def sign(x):\n",
        "  if x > 0:\n",
        "    return 'positive'\n",
        "  elif x < 0:\n",
        "    return 'negative'\n",
        "  else:\n",
        "    return 'zero'\n",
        "\n",
        "for x in [-1,0,1]:\n",
        "  print(sign(x))\n"
      ],
      "execution_count": null,
      "outputs": [
        {
          "output_type": "stream",
          "name": "stdout",
          "text": [
            "negative\n",
            "zero\n",
            "positive\n"
          ]
        }
      ]
    },
    {
      "cell_type": "code",
      "metadata": {
        "id": "oNQ6RG45-Vaq",
        "colab": {
          "base_uri": "https://localhost:8080/"
        },
        "outputId": "4d786693-3863-4635-b4e5-dffabc28d713"
      },
      "source": [
        "def hello(name, loud = False):\n",
        "  if loud:\n",
        "    print('HELLO %s!' % name.upper())\n",
        "  else:\n",
        "    print('hello %s :)' % name)\n",
        "\n",
        "hello('Nils')\n",
        "hello('paul',loud=True)"
      ],
      "execution_count": null,
      "outputs": [
        {
          "output_type": "stream",
          "name": "stdout",
          "text": [
            "hello Nils :)\n",
            "HELLO PAUL!\n"
          ]
        }
      ]
    },
    {
      "cell_type": "markdown",
      "metadata": {
        "id": "cfczoVvGwBL4"
      },
      "source": [
        "*getting 10 to the power of x*"
      ]
    },
    {
      "cell_type": "code",
      "metadata": {
        "colab": {
          "base_uri": "https://localhost:8080/"
        },
        "id": "2bG5zZ-JvefD",
        "outputId": "00234c75-881f-478d-e056-431098709f15"
      },
      "source": [
        "import numpy\n",
        "x = numpy.array([3,4])\n",
        "numpy.exp(numpy.log(10)*x)\n",
        "y = numpy.exp(1)\n",
        "print(y)\n",
        "numpy.log(y)\n"
      ],
      "execution_count": null,
      "outputs": [
        {
          "output_type": "stream",
          "name": "stdout",
          "text": [
            "2.718281828459045\n"
          ]
        },
        {
          "output_type": "execute_result",
          "data": {
            "text/plain": [
              "1.0"
            ]
          },
          "metadata": {},
          "execution_count": 39
        }
      ]
    },
    {
      "cell_type": "markdown",
      "metadata": {
        "id": "4LoHkPbBzlYR"
      },
      "source": [
        "Array math"
      ]
    },
    {
      "cell_type": "code",
      "metadata": {
        "colab": {
          "base_uri": "https://localhost:8080/"
        },
        "id": "pkFkGiyCLt0B",
        "outputId": "45cc8876-37a5-47bf-c8b7-838c022edfdf"
      },
      "source": [
        "#matrix multiply\n",
        "a = np.ones((1,3))\n",
        "b = np.array([[1,2],[2,3],[3,4]],dtype=np.int16)\n",
        "print(a)\n",
        "print(b)\n",
        "print(np.matmul(a,b))\n",
        "\n"
      ],
      "execution_count": null,
      "outputs": [
        {
          "output_type": "stream",
          "name": "stdout",
          "text": [
            "[[1. 1. 1.]]\n",
            "[[1 2]\n",
            " [2 3]\n",
            " [3 4]]\n",
            "[[6. 9.]]\n"
          ]
        }
      ]
    },
    {
      "cell_type": "code",
      "metadata": {
        "id": "I89cY2ulzm7X",
        "colab": {
          "base_uri": "https://localhost:8080/"
        },
        "outputId": "66e804a6-450d-49e5-87b7-97859e59235c"
      },
      "source": [
        "import numpy as np\n",
        "x = np.array([[1,2],[3,4]], dtype=np.float64)\n",
        "y = np.array([[5,6],[7,8]], dtype=np.float64)\n",
        "# Elementwise sum; both produce the array\n",
        "# [[ 6.0 8.0]\n",
        "# [10.0 12.0]]\n",
        "print(x + y)\n",
        "print(np.add(x, y))\n",
        "# Elementwise difference; both produce the array\n",
        "# [[-4.0 -4.0]\n",
        "# [-4.0 -4.0]]\n",
        "print(x - y)\n",
        "print(np.subtract(x, y))\n",
        "# Elementwise product; both produce the array\n",
        "# [[ 5.0 12.0]\n",
        "# [21.0 32.0]]\n",
        "print(x*y)\n",
        "print(np.multiply(x, y))\n",
        "# Elementwise division; both produce the array\n",
        "# [[ 0.2 0.33333333]\n",
        "# [ 0.42857143 0.5 ]]\n",
        "print(x / y)\n",
        "print(np.divide(x, y))\n",
        "# Elementwise square root; produces the array\n",
        "# [[ 1. 1.41421356]\n",
        "# [ 1.73205081 2. ]]\n",
        "print(np.sqrt(x))"
      ],
      "execution_count": null,
      "outputs": [
        {
          "output_type": "stream",
          "name": "stdout",
          "text": [
            "[[ 6.  8.]\n",
            " [10. 12.]]\n",
            "[[ 6.  8.]\n",
            " [10. 12.]]\n",
            "[[-4. -4.]\n",
            " [-4. -4.]]\n",
            "[[-4. -4.]\n",
            " [-4. -4.]]\n",
            "[[ 5. 12.]\n",
            " [21. 32.]]\n",
            "[[ 5. 12.]\n",
            " [21. 32.]]\n",
            "[[0.2        0.33333333]\n",
            " [0.42857143 0.5       ]]\n",
            "[[0.2        0.33333333]\n",
            " [0.42857143 0.5       ]]\n",
            "[[1.         1.41421356]\n",
            " [1.73205081 2.        ]]\n"
          ]
        }
      ]
    },
    {
      "cell_type": "code",
      "metadata": {
        "id": "7U5NYavM0Gkp",
        "colab": {
          "base_uri": "https://localhost:8080/"
        },
        "outputId": "7abdbcf9-e935-4c5f-c69b-b17d2485e3b7"
      },
      "source": [
        "v = np.array([9,10])\n",
        "w = np.array([11, 12])\n",
        "# Inner product of vectors; both produce 219\n",
        "print(v.dot(w))\n",
        "print(np.dot(v, w))\n",
        "# Matrix / vector product; both produce the rank 1 array [29 67]\n",
        "print(x.dot(v))\n",
        "print(np.dot(x, v))\n",
        "# Matrix / matrix product; both produce the rank 2 array\n",
        "print('x:',x)\n",
        "print('y:',y)\n",
        "print(x.dot(y))\n",
        "print(np.dot(x, y))\n",
        "# sums\n",
        "print(np.sum(x))\n",
        "print(np.sum(x, axis = 0))\n",
        "print(np.sum(y, axis = 1))\n",
        "print(v,v.shape)\n",
        "print(v.T,v.T.shape)  #transpose, but a 1-d vector does not seem to have an axis"
      ],
      "execution_count": null,
      "outputs": [
        {
          "output_type": "stream",
          "name": "stdout",
          "text": [
            "219\n",
            "219\n",
            "[29. 67.]\n",
            "[29. 67.]\n",
            "x: [[1. 2.]\n",
            " [3. 4.]]\n",
            "y: [[5. 6.]\n",
            " [7. 8.]]\n",
            "[[19. 22.]\n",
            " [43. 50.]]\n",
            "[[19. 22.]\n",
            " [43. 50.]]\n",
            "10.0\n",
            "[4. 6.]\n",
            "[11. 15.]\n",
            "[ 9 10] (2,)\n",
            "[ 9 10] (2,)\n"
          ]
        }
      ]
    },
    {
      "cell_type": "code",
      "metadata": {
        "id": "3QiwSa_r3hhQ",
        "colab": {
          "base_uri": "https://localhost:8080/"
        },
        "outputId": "337b2223-5eee-448b-f036-030833406906"
      },
      "source": [
        "x = np.array([[1,2,3],[4,5,6],[7,8,9],[10,11,12]])\n",
        "v = np.array([1,0,1])\n",
        "print(v.shape)\n",
        "print(x.shape)\n",
        "vv = np.tile(v,(4,1))\n",
        "print(vv)\n",
        "y = x + vv  # this is an explicit version of adding multiple tiled copies of v to x\n",
        "print(y)\n",
        "y = x + v   # and this is via 'Broadcasting': In any dimension, where one array \n",
        "            # has dim > 1 and the other, dim=1, the smaller one is replicated \n",
        "print(y)    \n",
        "print(v)"
      ],
      "execution_count": null,
      "outputs": [
        {
          "output_type": "stream",
          "name": "stdout",
          "text": [
            "(3,)\n",
            "(4, 3)\n",
            "[[1 0 1]\n",
            " [1 0 1]\n",
            " [1 0 1]\n",
            " [1 0 1]]\n",
            "[[ 2  2  4]\n",
            " [ 5  5  7]\n",
            " [ 8  8 10]\n",
            " [11 11 13]]\n",
            "[[ 2  2  4]\n",
            " [ 5  5  7]\n",
            " [ 8  8 10]\n",
            " [11 11 13]]\n",
            "[1 0 1]\n"
          ]
        }
      ]
    },
    {
      "cell_type": "markdown",
      "metadata": {
        "id": "TdUQhOw0rCuu"
      },
      "source": [
        "# Objects and Classes"
      ]
    },
    {
      "cell_type": "code",
      "metadata": {
        "id": "1RUycr39rJKO",
        "colab": {
          "base_uri": "https://localhost:8080/"
        },
        "outputId": "d992bb5f-bd23-4f7e-95ef-ead6c127d45e"
      },
      "source": [
        "class Animal:\n",
        "  #Initializer/Instance Attributes\n",
        "  def __init__(self, name, age):\n",
        "    self.name = name\n",
        "    self.age = age\n",
        "\n",
        "aDog = Animal(\"Dog\",17)\n",
        "print(type(aDog))\n",
        "print(aDog.age)\n",
        "bDog = Animal(\"Dog\",17)\n",
        "print(aDog==bDog)"
      ],
      "execution_count": null,
      "outputs": [
        {
          "output_type": "stream",
          "name": "stdout",
          "text": [
            "<class '__main__.Animal'>\n",
            "17\n",
            "False\n"
          ]
        }
      ]
    },
    {
      "cell_type": "markdown",
      "metadata": {
        "id": "89ZVMb-45ktp"
      },
      "source": [
        "# Matplotlib"
      ]
    },
    {
      "cell_type": "code",
      "metadata": {
        "id": "EWsut_jw5mZL",
        "colab": {
          "base_uri": "https://localhost:8080/",
          "height": 313
        },
        "outputId": "87cef416-795b-44b1-f45f-95dcc1b816fb"
      },
      "source": [
        "import matplotlib.pyplot as plt\n",
        "x = np.arange(0,3*np.pi,0.1)\n",
        "print(x.shape)\n",
        "y_sin = np.sin(x)\n",
        "y_cos = np.cos(x)\n",
        "plt.plot(x,y_sin)\n",
        "plt.plot(x,y_cos)\n",
        "plt.xlabel('x label')\n",
        "plt.ylabel('y label')\n",
        "plt.title('sin und cos')\n",
        "plt.legend(['sin','cos'])\n",
        "plt.show()"
      ],
      "execution_count": null,
      "outputs": [
        {
          "output_type": "stream",
          "name": "stdout",
          "text": [
            "(95,)\n"
          ]
        },
        {
          "output_type": "display_data",
          "data": {
            "image/png": "[encoded data removed]",
            "text/plain": [
              "<Figure size 432x288 with 1 Axes>"
            ]
          },
          "metadata": {
            "needs_background": "light"
          }
        }
      ]
    },
    {
      "cell_type": "code",
      "metadata": {
        "id": "AKvgTWew6aOD",
        "colab": {
          "base_uri": "https://localhost:8080/",
          "height": 281
        },
        "outputId": "5c2932f2-210f-4a37-f04f-99dfad44a0f4"
      },
      "source": [
        "plt.subplot(2,1,1)\n",
        "plt.plot(x,y_sin)\n",
        "plt.title('the sine')\n",
        "plt.subplot(2,1,2)\n",
        "plt.plot(x,y_cos)\n",
        "plt.title('and the other one')\n",
        "plt.show()"
      ],
      "execution_count": null,
      "outputs": [
        {
          "output_type": "display_data",
          "data": {
            "image/png": "[encoded data removed]",
            "text/plain": [
              "<Figure size 432x288 with 2 Axes>"
            ]
          },
          "metadata": {
            "needs_background": "light"
          }
        }
      ]
    },
    {
      "cell_type": "code",
      "metadata": {
        "id": "nrMtj-5y8wOB",
        "colab": {
          "base_uri": "https://localhost:8080/",
          "height": 315
        },
        "outputId": "cf74e5a0-bae9-4e9d-f74a-ea79306ad7f0"
      },
      "source": [
        "import matplotlib \n",
        "mu = 100\n",
        "sigma = 15\n",
        "x = mu + sigma*np.random.randn(423) #423 values\n",
        "print(x.size)\n",
        "num_bins = 50\n",
        "fig, ax = plt.subplots()\n",
        "# compute histogram\n",
        "n,bins,patches = ax.hist(x,num_bins,density = 1) #density=1 normalizes\n",
        "# add a ’best fit’ line\n",
        "y = ((1 / (np.sqrt(2*np.pi)*sigma))*np.exp(-0.5*(1 / sigma*\n",
        "                                                 (bins - mu))**2))\n",
        "ax.plot(bins, y, '--')\n",
        "ax.set_xlabel('Smarts')\n",
        "ax.set_ylabel('Probability density')\n",
        "ax.set_title('Histogram of IQ: $\\mu=100$, $\\sigma=15$')\n",
        "ax.grid()\n",
        "# Tweak spacing to prevent clipping of ylabel\n",
        "fig.tight_layout()\n",
        "plt.show()\n"
      ],
      "execution_count": null,
      "outputs": [
        {
          "output_type": "stream",
          "name": "stdout",
          "text": [
            "423\n"
          ]
        },
        {
          "output_type": "display_data",
          "data": {
            "image/png": "[encoded data removed]",
            "text/plain": [
              "<Figure size 432x288 with 1 Axes>"
            ]
          },
          "metadata": {
            "needs_background": "light"
          }
        }
      ]
    },
    {
      "cell_type": "markdown",
      "metadata": {
        "id": "L2j_WI0W_Dee"
      },
      "source": [
        "Imshow"
      ]
    },
    {
      "cell_type": "code",
      "metadata": {
        "id": "w8w5GHnb_F99",
        "colab": {
          "base_uri": "https://localhost:8080/",
          "height": 268
        },
        "outputId": "0ca82702-542c-4c82-dbf6-5a911cf8de1a"
      },
      "source": [
        "I = np.random.random((100,100))\n",
        "I += np.sin(np.linspace(0,np.pi,100))\n",
        "fig, ax = plt.subplots()\n",
        "im = ax.imshow(I,cmap=plt.cm.jet)\n",
        "fig.colorbar(im,ax=ax)\n",
        "plt.show()"
      ],
      "execution_count": null,
      "outputs": [
        {
          "output_type": "display_data",
          "data": {
            "image/png": "[encoded data removed]",
            "text/plain": [
              "<Figure size 432x288 with 2 Axes>"
            ]
          },
          "metadata": {
            "needs_background": "light"
          }
        }
      ]
    },
    {
      "cell_type": "markdown",
      "metadata": {
        "id": "Evl6VwgB_5Gz"
      },
      "source": [
        "Scatterplot"
      ]
    },
    {
      "cell_type": "code",
      "metadata": {
        "id": "sVk07ZrI_-D2",
        "colab": {
          "base_uri": "https://localhost:8080/",
          "height": 265
        },
        "outputId": "78970670-2826-4fa4-e0fe-0ed97de4f83b"
      },
      "source": [
        "N = 60\n",
        "g1 = (0.6+0.6*np.random.rand(N),np.random.rand(N))  #2 arrays of 60 elements each, packed in a tuple\n",
        "g2 = (0.6+0.2*np.random.rand(N),np.random.rand(N))\n",
        "g3 = (0.4+0.1*np.random.rand(N),np.random.rand(N))\n",
        "\n",
        "data = (g1,g2,g3)                           \n",
        "#print(data)\n",
        "#print(g1)\n",
        "colors = (\"green\", \"blue\", \"red\")\n",
        "groups = (\"coffee\", \"tea\", \"water\")\n",
        "# Create plot\n",
        "fig = plt.figure()\n",
        "ax = fig.add_subplot(1, 1, 1)\n",
        "for data, color, group in zip(data, colors, groups):  #The zip() function returns an \n",
        "                                                      #iterator of tuples based on the iterable objects. ... \n",
        "                                                      #If multiple iterables are passed, zip() returns an iterator \n",
        "                                                      #of tuples with each tuple having elements from all the iterables.\n",
        "  x, y = data\n",
        "  ax.scatter(x, y, alpha=0.8, c=color, edgecolors='none', s=30, label=group)\n",
        "plt.legend(loc=2)\n",
        "plt.show()"
      ],
      "execution_count": null,
      "outputs": [
        {
          "output_type": "display_data",
          "data": {
            "image/png": "[encoded data removed]",
            "text/plain": [
              "<Figure size 432x288 with 1 Axes>"
            ]
          },
          "metadata": {
            "needs_background": "light"
          }
        }
      ]
    },
    {
      "cell_type": "markdown",
      "metadata": {
        "id": "s6kP8w_yCIrO"
      },
      "source": [
        "Contour plot"
      ]
    },
    {
      "cell_type": "code",
      "metadata": {
        "id": "p7MotlN-CKJR",
        "colab": {
          "base_uri": "https://localhost:8080/",
          "height": 302
        },
        "outputId": "5bd594ac-10e4-45fe-9314-1d67538d809d"
      },
      "source": [
        "import numpy as np\n",
        "import matplotlib.pyplot as plt\n",
        "delta = 0.25#0.025\n",
        "x = np.arange(-2.5, 4.0, delta)\n",
        "y = np.arange(-2.5, 3.0, delta)\n",
        "X, Y = np.meshgrid(x, y)  #creates pair or coordinate vectors for plotting\n",
        "print(X.size,Y.size)\n",
        "Z1 = np.exp(-X**2 - Y**2)\n",
        "Z2 = np.exp(-(X - 1)**2 - (Y - 1)**2)\n",
        "Z = (Z1 - Z2)*2\n",
        "fig, ax = plt.subplots()\n",
        "CS = ax.contour(X, Y, Z)\n",
        "ax.clabel(CS, inline=1, fontsize=10)"
      ],
      "execution_count": null,
      "outputs": [
        {
          "output_type": "stream",
          "name": "stdout",
          "text": [
            "572 572\n"
          ]
        },
        {
          "output_type": "execute_result",
          "data": {
            "text/plain": [
              "<a list of 6 text.Text objects>"
            ]
          },
          "metadata": {},
          "execution_count": 50
        },
        {
          "output_type": "display_data",
          "data": {
            "image/png": "[encoded data removed]",
            "text/plain": [
              "<Figure size 432x288 with 1 Axes>"
            ]
          },
          "metadata": {
            "needs_background": "light"
          }
        }
      ]
    },
    {
      "cell_type": "markdown",
      "source": [
        "## Cooler plots"
      ],
      "metadata": {
        "id": "u_n4-vC8goL5"
      }
    },
    {
      "cell_type": "code",
      "source": [
        "### Seaborn: Very nice visualizations of, e.g., statistical data\n",
        "# Import seaborn\n",
        "import seaborn as sns\n",
        "import numpy as np\n",
        "# Apply the default theme\n",
        "sns.set_theme()\n",
        "\n",
        "# boxplots\n",
        "sns.set_style(\"whitegrid\")\n",
        "data = np.random.normal(size=(20, 6)) + np.arange(6) / 2\n",
        "sns.boxplot(data=data);\n",
        "\n"
      ],
      "metadata": {
        "colab": {
          "base_uri": "https://localhost:8080/",
          "height": 268
        },
        "id": "rlLtGSbxgx43",
        "outputId": "62a8ba13-c681-4dca-f3d6-e67327609dbf"
      },
      "execution_count": null,
      "outputs": [
        {
          "output_type": "display_data",
          "data": {
            "image/png": "[encoded data removed]",
            "text/plain": [
              "<Figure size 432x288 with 1 Axes>"
            ]
          },
          "metadata": {}
        }
      ]
    },
    {
      "cell_type": "code",
      "source": [
        "# controlling relative sizes: sn.setcontext\n",
        "import seaborn as sns\n",
        "import numpy as np\n",
        "\n",
        "def sinplot(flip=1,title=''):\n",
        "    x = np.linspace(0, 14, 100)\n",
        "    for i in range(1, 7):\n",
        "        plt.plot(x, np.sin(x + i * .5) * (7 - i) * flip)\n",
        "        plt.title( title)\n",
        "\n",
        "plt.subplot(2,2,1)\n",
        "sns.set_context(\"paper\")\n",
        "sinplot(title = 'paper')\n",
        "plt.subplot(2,2,2)\n",
        "sns.set_context(\"notebook\")\n",
        "sinplot(title = 'notebook')\n",
        "plt.subplot(2,2,3)\n",
        "sns.set_context(\"talk\")\n",
        "sinplot(title = 'talk')\n",
        "plt.subplot(2,2,4)\n",
        "sns.set_context(\"poster\")\n",
        "sinplot(title = 'poster')"
      ],
      "metadata": {
        "colab": {
          "base_uri": "https://localhost:8080/",
          "height": 295
        },
        "id": "cwLLwb1Qhht9",
        "outputId": "3430b983-4519-4b75-d473-9d3cf1f1db0f"
      },
      "execution_count": null,
      "outputs": [
        {
          "output_type": "display_data",
          "data": {
            "image/png": "[encoded data removed]",
            "text/plain": [
              "<Figure size 432x288 with 4 Axes>"
            ]
          },
          "metadata": {}
        }
      ]
    },
    {
      "cell_type": "code",
      "source": [
        "# plottin confidence intervals\n",
        "import seaborn as sns \n",
        "fmri = sns.load_dataset(\"fmri\")\n",
        "sns.relplot(\n",
        "    data=fmri, kind=\"line\",\n",
        "    x=\"timepoint\", y=\"signal\", col=\"region\",\n",
        "    hue=\"event\", style=\"event\",\n",
        ")"
      ],
      "metadata": {
        "colab": {
          "base_uri": "https://localhost:8080/",
          "height": 358
        },
        "id": "zZDuwEN6j4p3",
        "outputId": "73a59316-3ba6-4eac-86bf-11d86a0e6c10"
      },
      "execution_count": null,
      "outputs": [
        {
          "output_type": "execute_result",
          "data": {
            "text/plain": [
              "<seaborn.axisgrid.FacetGrid at 0x7f5223e8e950>"
            ]
          },
          "metadata": {},
          "execution_count": 18
        },
        {
          "output_type": "display_data",
          "data": {
            "image/png": "[encoded data removed]",
            "text/plain": [
              "<Figure size 846.95x360 with 2 Axes>"
            ]
          },
          "metadata": {}
        }
      ]
    },
    {
      "cell_type": "code",
      "source": [
        "# MOSAIC: this is slated for inclusion in pyplot later, but apparently not yet available in colab\n",
        "import matplotlib.pyplot as plt \n",
        "figure_mosaic = \"\"\"\n",
        "AABC\n",
        "AADE\"\"\"\n",
        "#  fig = plt.figure(constrained_layout=True)\n",
        "#  ax_dict = fig.subplot_mosaic(figure_mosaic)\n",
        "if 0:\n",
        "  fig, axes = plt.subplot_mosaic(mosaic = figure_mosaic, figsize = (11,5))\n",
        "  for label, ax in axes.items():\n",
        "    ax.text(0.1,0.1,label,color = 'blue')"
      ],
      "metadata": {
        "id": "FgWSbko77L0b"
      },
      "execution_count": null,
      "outputs": []
    },
    {
      "cell_type": "markdown",
      "metadata": {
        "id": "wdfQmu7Di57l"
      },
      "source": [
        "# Error handling"
      ]
    },
    {
      "cell_type": "code",
      "metadata": {
        "colab": {
          "base_uri": "https://localhost:8080/",
          "height": 167
        },
        "id": "p6LXcS_Gh_oL",
        "outputId": "031825e5-be1a-4ba5-eb44-b59e0b0a3dfd"
      },
      "source": [
        "raise Exception('error of some kind')"
      ],
      "execution_count": null,
      "outputs": [
        {
          "output_type": "error",
          "ename": "Exception",
          "evalue": "ignored",
          "traceback": [
            "\u001b[0;31m---------------------------------------------------------------------------\u001b[0m",
            "\u001b[0;31mException\u001b[0m                                 Traceback (most recent call last)",
            "\u001b[0;32m<ipython-input-4-c1c5ee17262c>\u001b[0m in \u001b[0;36m<module>\u001b[0;34m()\u001b[0m\n\u001b[0;32m----> 1\u001b[0;31m \u001b[0;32mraise\u001b[0m \u001b[0mException\u001b[0m\u001b[0;34m(\u001b[0m\u001b[0;34m'error of some kind'\u001b[0m\u001b[0;34m)\u001b[0m\u001b[0;34m\u001b[0m\u001b[0;34m\u001b[0m\u001b[0m\n\u001b[0m",
            "\u001b[0;31mException\u001b[0m: error of some kind"
          ]
        }
      ]
    },
    {
      "cell_type": "markdown",
      "source": [
        "# Data handling \n",
        "\n",
        "## download from server"
      ],
      "metadata": {
        "id": "t8AGMegB9Fqq"
      }
    },
    {
      "cell_type": "code",
      "source": [
        "#!pip install wget\n",
        "import wget\n",
        "#download from dropbox: add '?dl=1'\n",
        "url = 'https://www.dropbox.com/s/cusgup7g1enalux/initial-epoch49-val_loss0.62.ckpt?dl=1'\n",
        "chkpt = wget.download(url)\n",
        "\n",
        "# download single file from sciebo, add '/download'\n",
        "url = 'https://ruhr-uni-bochum.sciebo.de/s/1cYCimzcuhialLw/download'\n",
        "file = wget.download(url)\n",
        "\n",
        "# download folder structure from sciebo, into .zip\n",
        "url2 = 'https://ruhr-uni-bochum.sciebo.de/s/FK9bYg6d8nxzm6l/download'\n",
        "folder = wget.download(url2)"
      ],
      "metadata": {
        "id": "nzU7-NqV9X83"
      },
      "execution_count": 6,
      "outputs": []
    },
    {
      "cell_type": "markdown",
      "source": [
        "# Viterbi and FB"
      ],
      "metadata": {
        "id": "rFqSe4Vf-9fR"
      }
    },
    {
      "cell_type": "code",
      "metadata": {
        "id": "47xNxEHLOpk_"
      },
      "source": [
        "########## generic part ########################################################\n",
        "\n",
        "def forward( seq, iniEdges, aijEdges, escEdges ):\n",
        "  \"\"\"generic forward algorith\n",
        "  return alpha array\n",
        "  \"\"\"\n",
        "  alphas = []\n",
        "  alpha = iniEdges( next(seq) )                                                 # t=0\n",
        "  alphas.append(alpha)\n",
        "  for obs in seq:                                                               # t>0\n",
        "    prev = alpha                                                                # alpha(t-1)\n",
        "    alpha = []   \n",
        "    for aij in aijEdges:                                                        # alpha(t)\n",
        "      alpha.append( aij(prev,obs) )\n",
        "    alphas.append( alpha )\n",
        "  alphas.append( escEdges( alpha ) )                                            # goal, first element in last column\n",
        "  return alphas\n",
        "\n",
        "\n",
        "######### specific part ########################################################\n",
        "from numpy import log\n",
        "from numpy import exp\n",
        "import numpy as np\n",
        "\n",
        "EPS = 1e-6\n",
        "LOGZERO = log(EPS) \n",
        "\n",
        "\n",
        "def Path( logScore, parent ):\n",
        "  \"\"\"creates a partial path\n",
        "  provides accumulated logScore and predecessor index\n",
        "  \"\"\"\n",
        "  class P:\n",
        "    def logScore(): return logScore\n",
        "    def parent(): return parent\n",
        "    def __str__(self):\n",
        "      if parent == -1:\n",
        "        return \"{0:11.5f}(-)\".format( logScore )\n",
        "      return \"{0:11.5f}({1:d})\".format( logScore, parent )\n",
        "  return P  \n",
        "\n",
        "\n",
        "def Edge( index, weight, odfIndex=-1 ):\n",
        "  \"\"\"creates an edge\n",
        "  provides: edge index, log edge weight and odf index\n",
        "  \"\"\"\n",
        "  logWeight = log(weight)\n",
        "  class E:\n",
        "    def idx(): return index\n",
        "    def logW(): return logWeight\n",
        "    def iBm(): return odfIndex\n",
        "  return E\n",
        "\n",
        "\n",
        "\n",
        "def INI_EDGES( numStates, *edges ):\n",
        "  \"\"\"creates iniEdges for the forward algorithm\n",
        "  func returns the fully initialized first alpha column \n",
        "  \"\"\"\n",
        "  alpha = np.full( numStates, Path(LOGZERO,-1) )                                # init alpha with all zero-state\n",
        "  def func( obs ):\n",
        "    for e in edges:\n",
        "      alpha[e.idx()] = Path( e.logW() + log(obs[e.iBm()]), -1 )                # init with logPi + logB(t=0)\n",
        "    return alpha\n",
        "  return func\n",
        "\n",
        "\n",
        "def AIJ_EDGES( stateIndex, selfTransitionProbability, odfIndex, *edges ):\n",
        "  \"\"\"creates aijEdges for the forward algorithm\n",
        "    :param stateIndex: state index\n",
        "    :param iBm: odf index\n",
        "    :param aii: self transition prob\n",
        "    :param incoming: list of incoming Edges\n",
        "    returns a function that returns a new Path\n",
        "  \"\"\"\n",
        "  logAii = log( selfTransitionProbability )                                       # log self transition weight\n",
        "  def func( alpha, obs ):\n",
        "    maxLog = alpha[stateIndex].logScore() + logAii \n",
        "    maxArg = stateIndex\n",
        "    for e in edges:\n",
        "      logScore = alpha[e.idx()].logScore() + e.logW()\n",
        "      if( logScore > maxLog ):                                                     # viterbi max approx.\n",
        "        maxLog = logScore\n",
        "        maxArg = e.idx()                                                             # backpointer, predecessor index\n",
        "    return Path( log(obs[odfIndex]) + maxLog, maxArg )\n",
        "  return func\n",
        "\n",
        "\n",
        "def ESC_EDGES( *edges ):\n",
        "  \"\"\"creates escEdges for the forward algorithm\n",
        "  func returns the goal node\n",
        "  \"\"\"\n",
        "  def func( alpha ):\n",
        "    maxLog = LOGZERO                                                               # dummy first element\n",
        "    maxArg = -1\n",
        "    for e in edges:\n",
        "      logScore = alpha[e.idx()].logScore() + e.logW()                                 # e.logW = esc prob.\n",
        "      if( logScore > maxLog ):\n",
        "        maxLog = logScore\n",
        "        maxArg = e.idx()\n",
        "    return Path( maxLog, maxArg )                                                    # goal node, no observation available\n",
        "  return func\n",
        "\n",
        "def printAlphas( alpha ):\n",
        "  print( \" t         s=0           s=1             s=2\" )\n",
        "  for t in range(len(alphas)-1):\n",
        "    alpha = alphas[t]\n",
        "    print( \"{0:2d} \".format(t), end='', )\n",
        "    for a in alpha:\n",
        "      print( a(), end='', )    #\n",
        "    print()\n",
        "  goal = alphas[len(alphas)-1]\n",
        "  print( \"goal:\", goal() )\n",
        "\n"
      ],
      "execution_count": null,
      "outputs": []
    },
    {
      "cell_type": "markdown",
      "metadata": {
        "id": "oxojZUQs8SxM"
      },
      "source": [
        "Viterbi für das Wettermodell (Test aus ASR-Übung):"
      ]
    },
    {
      "cell_type": "code",
      "metadata": {
        "colab": {
          "base_uri": "https://localhost:8080/"
        },
        "id": "gtHJ2oD6PZ0z",
        "outputId": "093843a2-c73b-4fcd-89cd-b581af627f21"
      },
      "source": [
        "N = 3\n",
        "iniEdges = INI_EDGES( N, Edge(0,0.9,0), Edge(2,0.1,2) )\n",
        "aijEdges = [ \n",
        "  AIJ_EDGES( 0, 0.8, 0, Edge(1,0.4), Edge(2,0.3) ),  \n",
        "  AIJ_EDGES( 1, 0.4, 1, Edge(2,0.2) ),  \n",
        "  AIJ_EDGES( 2, 0.5, 2, Edge(0,0.2), Edge(1,0.2) ),  \n",
        "]\n",
        "escEdges = ESC_EDGES( Edge(0,1.0), Edge(1,1.0), Edge(2,1.0) )\n",
        "\n",
        "# first sequence\n",
        "seq = [\n",
        "  [ 0.1,   0,   0 ],\n",
        "  [   0, 0.1, 0.8 ],\n",
        "  [ 0.1, 0.2,   0 ],\n",
        "  [ 0.1, 0.2,   0 ]]\n",
        "\n",
        "alphas = forward( iter(seq), iniEdges, aijEdges, escEdges )\n",
        "printAlphas(alphas)\n",
        "print(\"expected: 0, 2, 1, 1\\n\")\n",
        "\n",
        "# second sequence\n",
        "seq.append( [ 0.2, 0.0, 0.0 ] )\n",
        "alphas = forward( iter(seq), iniEdges, aijEdges, escEdges )\n",
        "printAlphas(alphas)\n",
        "print(\"expected: 0, 2, 0, 0, 0\\n\")  \n"
      ],
      "execution_count": null,
      "outputs": [
        {
          "output_type": "stream",
          "name": "stdout",
          "text": [
            " t         s=0           s=1             s=2\n",
            " 0    -2.40795(-)  -13.81551(-)       -inf(-)\n",
            " 1        -inf(0)  -17.03439(1)   -4.24053(0)\n",
            " 2    -7.74708(2)   -7.45940(2)       -inf(2)\n",
            " 3   -10.27281(0)   -9.98513(1)       -inf(1)\n",
            "goal:    -9.98513(1)\n",
            "expected: 0, 2, 1, 1\n",
            "\n",
            " t         s=0           s=1             s=2\n",
            " 0    -2.40795(-)  -13.81551(-)       -inf(-)\n",
            " 1        -inf(0)  -17.03439(1)   -4.24053(0)\n",
            " 2    -7.74708(2)   -7.45940(2)       -inf(2)\n",
            " 3   -10.27281(0)   -9.98513(1)       -inf(1)\n",
            " 4   -12.10540(0)       -inf(1)       -inf(1)\n",
            "goal:   -12.10540(0)\n",
            "expected: 0, 2, 0, 0, 0\n",
            "\n"
          ]
        },
        {
          "output_type": "stream",
          "name": "stderr",
          "text": [
            "/usr/local/lib/python3.7/dist-packages/ipykernel_launcher.py:63: RuntimeWarning: divide by zero encountered in log\n",
            "/usr/local/lib/python3.7/dist-packages/ipykernel_launcher.py:85: RuntimeWarning: divide by zero encountered in log\n"
          ]
        }
      ]
    },
    {
      "cell_type": "code",
      "metadata": {
        "id": "l-HqJyOnBmTD"
      },
      "source": [
        "import numpy as np\n",
        "labels = {\n",
        "    # BLANK MUSS IMMER NUMMER 0 SEIN!!!\n",
        "    \"name\": [\"blank\", \"oh\", \"zero\", \"one\", \"two\", \"three\", \"four\",  \"five\", \"six\", \"seven\", \"eight\", \"nine\"],\n",
        "    #idx       0       1      2       3      4      5        6        7      8       9       10       11\n",
        "    \"size\": [1, 2, 2, 1, 1, 1, 1, 1, 1, 1, 1, 1],\n",
        "    #\"size\": [1, 3, 3, 3, 3, 3, 3, 3, 3, 3, 3, 3],\n",
        "}\n",
        "word_ini_prob = 0.4\n",
        "\n",
        "def create_transitions(labels,word_ini_prob):\n",
        "  N = sum(labels[\"size\"])\n",
        "  A = np.zeros((N, N))\n",
        "  ini = np.zeros((1,N))  \n",
        "  exit = np.zeros((N,1))\n",
        "\n",
        "  # create LR structure\n",
        "  for n in range(0, N):\n",
        "    A[n, n] = 0.5\n",
        "    A[n - 1, n] = 0.5\n",
        "  entry_states = np.cumsum(labels[\"size\"])\n",
        "  entry_states = entry_states[:-1]\n",
        "  print(\"entry_states: {}\".format(entry_states))\n",
        "  exit_states = entry_states-1\n",
        "  print(\"exit_states: {}\".format(exit_states))\n",
        "\n",
        "  for row in exit_states:  # esc\n",
        "    exit[row,0] = 1.0\n",
        "    for col in entry_states:  # ini\n",
        "      A[row, col] = word_ini_prob  # word ini prob\n",
        "    rowSum = A.sum(axis=1, keepdims=True)\n",
        "    np.seterr(divide='ignore', invalid='ignore')\n",
        "    A[:] = np.where(rowSum > 0, A / rowSum, 0.)\n",
        "\n",
        "  for col in entry_states:  # ini\n",
        "    ini[0,col] = word_ini_prob\n",
        "  print(\"ini: {}\".format(ini))\n",
        "\n",
        "  return A, ini, exit, entry_states, exit_states, N\n",
        "\n",
        "def create_structures(labels, word_ini_prob):\n",
        "  # number of labels and output distributions assigned\n",
        "  N = sum(labels[\"size\"])\n",
        "  iBm = [x for x in range(N)]\n",
        "  print(\"N: {}\".format(N)) \n",
        "\n",
        "  # escape edges\n",
        "  a = np.cumsum(labels[\"size\"])\n",
        "  esc = list(zip(a[1:] - 1, labels[\"name\"][1:]))\n",
        "  print(esc)\n",
        "  return iBm\n",
        "\n"
      ],
      "execution_count": null,
      "outputs": []
    },
    {
      "cell_type": "code",
      "metadata": {
        "colab": {
          "base_uri": "https://localhost:8080/"
        },
        "id": "XZA5kE7c5k_5",
        "outputId": "ee174c70-747e-47de-c6d1-c83d30370141"
      },
      "source": [
        "T = 3\n",
        "A, ini, exit, ini_states, exit_states, N = create_transitions(labels, word_ini_prob)\n",
        "#print('A: {}'.format(A))\n",
        "print('ini: {}'.format(ini))\n",
        "print('exit: {}'.format(exit))\n",
        "iBm = create_structures(labels, word_ini_prob)\n",
        "seq = np.random.rand(T,N)\n",
        "print(\"Seq: {}\".format(seq))\n",
        "\n",
        "create_structures(labels, word_ini_prob)\n",
        "#edges = [ Edge(1,.05), Edge(2,.55)  ]\n",
        "edges = []\n",
        "for idx in ini_states:\n",
        "  edges.append( Edge( idx, ini[0,idx], iBm[idx] ) )\n",
        "iniEdges = INI_EDGES( N, *edges )\n",
        "\n",
        "edges = []\n",
        "for idx in exit_states:\n",
        "  edges.append( Edge(idx, exit[idx,0]) )\n",
        "escEdges = ESC_EDGES( *edges )\n",
        "\n",
        "aijEdges = []\n",
        "for col in range(N):\n",
        "  edges = []\n",
        "  for row in range(N):\n",
        "    if( A[row,col] > 0 ):\n",
        "      edges.append( Edge( row, A[row,col] ) )\n",
        "  stateIndex = col;\n",
        "  odfIndex = iBm[col]\n",
        "  aijEdges.append( AIJ_EDGES(stateIndex, A[col,col], odfIndex, *edges ) )\n",
        "\n",
        "alphas = forward( iter(seq), iniEdges, aijEdges, escEdges )\n",
        "#goal = alphas[-1]\n",
        "#print(\"goal: {}\".format( goal()) )\n",
        "\n",
        "print( \" t         s=0           s=1             s=2\" )\n",
        "for t in range(len(alphas)-1):\n",
        "  alpha = alphas[t]\n",
        "  print( \"{0:2d} \".format(t), end='', )\n",
        "  for a in alpha:\n",
        "    print( a(), end='', )    #\n",
        "  print()\n",
        "goal = alphas[len(alphas)-1]\n",
        "print( \"goal:\", goal() )\n",
        "\n",
        "\n",
        "\n"
      ],
      "execution_count": null,
      "outputs": [
        {
          "output_type": "stream",
          "name": "stdout",
          "text": [
            "entry_states: [ 1  3  5  6  7  8  9 10 11 12 13]\n",
            "exit_states: [ 0  2  4  5  6  7  8  9 10 11 12]\n",
            "ini: [[0.  0.4 0.  0.4 0.  0.4 0.4 0.4 0.4 0.4 0.4 0.4 0.4 0.4]]\n",
            "ini: [[0.  0.4 0.  0.4 0.  0.4 0.4 0.4 0.4 0.4 0.4 0.4 0.4 0.4]]\n",
            "exit: [[1.]\n",
            " [0.]\n",
            " [1.]\n",
            " [0.]\n",
            " [1.]\n",
            " [1.]\n",
            " [1.]\n",
            " [1.]\n",
            " [1.]\n",
            " [1.]\n",
            " [1.]\n",
            " [1.]\n",
            " [1.]\n",
            " [0.]]\n",
            "N: 14\n",
            "[(2, 'oh'), (4, 'zero'), (5, 'one'), (6, 'two'), (7, 'three'), (8, 'four'), (9, 'five'), (10, 'six'), (11, 'seven'), (12, 'eight'), (13, 'nine')]\n",
            "Seq: [[0.65915988 0.82569855 0.44950908 0.38182687 0.95990076 0.18961347\n",
            "  0.22511991 0.00485003 0.08553474 0.31583732 0.14553252 0.47257935\n",
            "  0.16450898 0.58956147]\n",
            " [0.57369781 0.82798361 0.36584932 0.26979117 0.07465164 0.09795137\n",
            "  0.62378717 0.78222786 0.07585025 0.94339065 0.62094353 0.05358971\n",
            "  0.95656972 0.20647097]\n",
            " [0.55948327 0.11895206 0.5008596  0.51280549 0.99416134 0.35062664\n",
            "  0.20199279 0.09286245 0.37639792 0.69023065 0.58554959 0.87068063\n",
            "  0.22191491 0.76365492]]\n",
            "N: 14\n",
            "[(2, 'oh'), (4, 'zero'), (5, 'one'), (6, 'two'), (7, 'three'), (8, 'four'), (9, 'five'), (10, 'six'), (11, 'seven'), (12, 'eight'), (13, 'nine')]\n",
            " t         s=0           s=1             s=2\n",
            " 0   -13.81551(-)   -1.10782(-)  -13.81551(-)   -1.87908(-)  -13.81551(-)   -2.57906(-)   -2.40741(-)   -6.24506(-)   -3.37512(-)   -2.06882(-)   -2.84365(-)   -1.66584(-)   -2.72108(-)   -1.44467(-)\n",
            " 1    -2.69347(13)   -1.98973(1)   -2.80650(1)   -3.88233(3)   -5.16715(3)   -6.38702(11)   -4.53568(11)   -4.30934(11)   -6.64273(11)   -4.12201(11)   -4.54025(11)   -6.99013(11)   -4.10814(11)   -3.71541(13)\n",
            " 2    -4.98930(13)   -4.81191(1)   -3.37430(1)   -5.24334(3)   -4.58134(3)   -6.24703(0)   -6.79852(0)   -7.57563(0)   -6.17610(0)   -5.56972(0)   -5.73420(0)   -5.33747(0)   -6.70445(0)   -4.67820(13)\n",
            "goal:    -3.37430(2)\n"
          ]
        }
      ]
    },
    {
      "cell_type": "code",
      "metadata": {
        "id": "EhdyufnDM173"
      },
      "source": [
        "logPi = log([ 0.9, 0, 0.1 ])\n",
        "\n",
        "# Matrix der Zustandsübergangswahrscheinlichkeiten\n",
        "logA  = log([[ 0.8,   0, 0.2 ], \n",
        "                [ 0.4, 0.4, 0.2 ], \n",
        "                [ 0.3, 0.2, 0.5 ]]) \n",
        "\n",
        "logLike = log([[ 0.1,   0,   0 ],\n",
        "                  [   0, 0.1, 0.8 ],\n",
        "                  [ 0.1, 0.2,   0 ],\n",
        "                  [ 0.1, 0.2,   0 ]])\n",
        "\n",
        "obs1 = [ 2, -1, 8, 8 ]\n",
        "# erwartetes Ergebnis: [\"1\", \"3\", \"2\", \"2\"], \n",
        "# pStar = log(9*16*4*8*1E-8) = -9.985131542\n",
        "# print( tools.viterbi( logLike, logPi, logA ) )\n",
        "\n",
        "obs2 = [ 2, -1, 8, 8, 4 ]\n",
        "    # verlängern der Beobachtungssequenz um eine weitere Beobachtung \n",
        "    # mit der gemessenen Temperatur 4\n",
        "    # neue Beobachtungssequenz: [ 2, -1, 8, 8, 4 ]\n",
        "logLike = np.vstack( ( logLike, log([ 0.2, 0, 0 ]) ) )\n",
        "\n",
        "# erwartetes Ergebnis: [\"1\", \"3\", \"1\", \"1\", \"1\"], \n",
        "# pStar = log(9*16*3*8*16*1E-10) = -12.10539508\n",
        "#print( tools.viterbi( logLike, logPi, logA ) )"
      ],
      "execution_count": null,
      "outputs": []
    },
    {
      "cell_type": "code",
      "metadata": {
        "id": "3LrYiGZ3DSiK",
        "colab": {
          "base_uri": "https://localhost:8080/",
          "height": 110
        },
        "outputId": "51211e67-fd44-44ca-a008-3c1ef667a8e2"
      },
      "source": [
        "# N = 3\n",
        "# A =  [  x   0.9,   0,  0.1 ]\n",
        "#      [ 1.0  0.8,   0,  0.2 ] \n",
        "#      [ 1.0  0.4,  0.4, 0.2 ] \n",
        "#      [ 1.0  0.3,  0.2, 0.5 ]\n",
        "# iBm =[ 0, 1, 2 ]\n",
        "\n",
        "'''\n",
        "eI0 = Edge( 0, 0.9, 0 )\n",
        "eI2 = Edge( 2, 0.1, 2 )\n",
        "e10 = Edge( 1, 0.4 )\n",
        "e20 = Edge( 2, 0.3 )\n",
        "e21 = Edge( 2, 0.2 )\n",
        "e02 = Edge( 0, 0.2 )\n",
        "e12 = Edge( 1, 0.2 )\n",
        "eE0 = Edge( 0, 1.0 )\n",
        "eE1 = Edge( 1, 1.0 )\n",
        "eE2 = Edge( 2, 1.0 )\n",
        "\n",
        "iniEdges = INI_EDGES( N, eI0, eI2  )\n",
        "aijEdges = [ \n",
        "  AIJ_EDGES( 0, 0.8, 0, e10, e20 ),  \n",
        "  AIJ_EDGES( 1, 0.4, 1, e21  ),  \n",
        "  AIJ_EDGES( 2, 0.5, 2, e02, e12 ),  \n",
        "]\n",
        "escEdges = ESC_EDGES( eE0, eE1, eE2 )\n",
        "\n",
        "print(iniEdges)\n",
        "print(aijEdges)\n",
        "print(escEdges)\n",
        "'''"
      ],
      "execution_count": null,
      "outputs": [
        {
          "output_type": "execute_result",
          "data": {
            "application/vnd.google.colaboratory.intrinsic+json": {
              "type": "string"
            },
            "text/plain": [
              "'\\neI0 = Edge( 0, 0.9, 0 )\\neI2 = Edge( 2, 0.1, 2 )\\ne10 = Edge( 1, 0.4 )\\ne20 = Edge( 2, 0.3 )\\ne21 = Edge( 2, 0.2 )\\ne02 = Edge( 0, 0.2 )\\ne12 = Edge( 1, 0.2 )\\neE0 = Edge( 0, 1.0 )\\neE1 = Edge( 1, 1.0 )\\neE2 = Edge( 2, 1.0 )\\n\\niniEdges = INI_EDGES( N, eI0, eI2  )\\naijEdges = [ \\n  AIJ_EDGES( 0, 0.8, 0, e10, e20 ),  \\n  AIJ_EDGES( 1, 0.4, 1, e21  ),  \\n  AIJ_EDGES( 2, 0.5, 2, e02, e12 ),  \\n]\\nescEdges = ESC_EDGES( eE0, eE1, eE2 )\\n\\nprint(iniEdges)\\nprint(aijEdges)\\nprint(escEdges)\\n'"
            ]
          },
          "metadata": {},
          "execution_count": 7
        }
      ]
    },
    {
      "cell_type": "markdown",
      "metadata": {
        "id": "1jOjlF6vgO1C"
      },
      "source": [
        "# Autograd\n"
      ]
    },
    {
      "cell_type": "markdown",
      "metadata": {
        "id": "OiG7eG7xFpwO"
      },
      "source": [
        "Automatic differentiation (Kuptservol)\n",
        "https://github.com/kuptservol/how-it-works/blob/7f45bd104c592a8080973c50c77605a378edbf40/src/main/java/ru/skuptsov/differentiation/autoGradPytorch.py\n"
      ]
    },
    {
      "cell_type": "code",
      "metadata": {
        "colab": {
          "base_uri": "https://localhost:8080/"
        },
        "id": "ByHvwCbVbXmL",
        "outputId": "b3dbd34f-ea56-4c07-8020-66360f197bf8"
      },
      "source": [
        "import torch\n",
        "a = torch.zeros(2,2)\n",
        "b = torch.log(a)\n",
        "print(b)\n",
        "input = torch.log(torch.full_like(a,0.5))\n",
        "dim = 1\n",
        "torch.logsumexp(input, dim)"
      ],
      "execution_count": null,
      "outputs": [
        {
          "output_type": "stream",
          "name": "stdout",
          "text": [
            "tensor([[-inf, -inf],\n",
            "        [-inf, -inf]])\n"
          ]
        },
        {
          "output_type": "execute_result",
          "data": {
            "text/plain": [
              "tensor([0., 0.])"
            ]
          },
          "metadata": {},
          "execution_count": 8
        }
      ]
    },
    {
      "cell_type": "code",
      "metadata": {
        "colab": {
          "base_uri": "https://localhost:8080/"
        },
        "id": "zRG3N1FnFoQf",
        "outputId": "70b9065d-9f9a-46ee-c1a4-39224a1a16e1"
      },
      "source": [
        "import torch\n",
        "\n",
        "# x=2, y=3, α = 4, β=5\n",
        "x = torch.tensor(2.0, requires_grad=False)\n",
        "y = torch.tensor(3.0, requires_grad=False)\n",
        "α = torch.tensor(4.0, requires_grad=True)\n",
        "β = torch.tensor(5.0, requires_grad=True)\n",
        "\n",
        "# loss = (αx+β-y)^2\n",
        "loss = pow((α * x + β - y), 2)\n",
        "\n",
        "loss.backward()\n",
        "\n",
        "print(loss)\n",
        "print(α.grad)\n",
        "print(β.grad)\n",
        "print(x.grad)\n"
      ],
      "execution_count": null,
      "outputs": [
        {
          "output_type": "stream",
          "name": "stdout",
          "text": [
            "tensor(100., grad_fn=<PowBackward0>)\n",
            "tensor(40.)\n",
            "tensor(20.)\n",
            "None\n"
          ]
        }
      ]
    }
  ]
}